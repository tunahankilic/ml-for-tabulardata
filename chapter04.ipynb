{
 "cells": [
  {
   "cell_type": "code",
   "execution_count": 1,
   "metadata": {},
   "outputs": [],
   "source": [
    "import numpy as np\n",
    "import pandas as pd"
   ]
  },
  {
   "cell_type": "code",
   "execution_count": 71,
   "metadata": {},
   "outputs": [],
   "source": [
    "excluding_list = [\n",
    "    'price', 'id', 'latitude', \n",
    "    'longitude', 'host_id', \n",
    "    'last_review', 'name',\n",
    "    'host_name'\n",
    "    ]\n",
    "\n",
    "categorical = [\n",
    "    'neighbourhood_group',\n",
    "    'neighbourhood',\n",
    "    'room_type'\n",
    "    ]\n",
    "\n",
    "continuous = [\n",
    "    'minimum_nights',\n",
    "    'number_of_reviews',\n",
    "    'reviews_per_month',\n",
    "    'calculated_host_listings_count',\n",
    "    'availability_365'\n",
    "    ] \n",
    "\n",
    "data = pd.read_csv('./AB_NYC_2019.csv')"
   ]
  },
  {
   "cell_type": "code",
   "execution_count": 3,
   "metadata": {},
   "outputs": [
    {
     "data": {
      "text/html": [
       "<div>\n",
       "<style scoped>\n",
       "    .dataframe tbody tr th:only-of-type {\n",
       "        vertical-align: middle;\n",
       "    }\n",
       "\n",
       "    .dataframe tbody tr th {\n",
       "        vertical-align: top;\n",
       "    }\n",
       "\n",
       "    .dataframe thead th {\n",
       "        text-align: right;\n",
       "    }\n",
       "</style>\n",
       "<table border=\"1\" class=\"dataframe\">\n",
       "  <thead>\n",
       "    <tr style=\"text-align: right;\">\n",
       "      <th></th>\n",
       "      <th>id</th>\n",
       "      <th>name</th>\n",
       "      <th>host_id</th>\n",
       "      <th>host_name</th>\n",
       "      <th>neighbourhood_group</th>\n",
       "      <th>neighbourhood</th>\n",
       "      <th>latitude</th>\n",
       "      <th>longitude</th>\n",
       "      <th>room_type</th>\n",
       "      <th>price</th>\n",
       "      <th>minimum_nights</th>\n",
       "      <th>number_of_reviews</th>\n",
       "      <th>last_review</th>\n",
       "      <th>reviews_per_month</th>\n",
       "      <th>calculated_host_listings_count</th>\n",
       "      <th>availability_365</th>\n",
       "    </tr>\n",
       "  </thead>\n",
       "  <tbody>\n",
       "    <tr>\n",
       "      <th>0</th>\n",
       "      <td>2539</td>\n",
       "      <td>Clean &amp; quiet apt home by the park</td>\n",
       "      <td>2787</td>\n",
       "      <td>John</td>\n",
       "      <td>Brooklyn</td>\n",
       "      <td>Kensington</td>\n",
       "      <td>40.64749</td>\n",
       "      <td>-73.97237</td>\n",
       "      <td>Private room</td>\n",
       "      <td>149</td>\n",
       "      <td>1</td>\n",
       "      <td>9</td>\n",
       "      <td>2018-10-19</td>\n",
       "      <td>0.21</td>\n",
       "      <td>6</td>\n",
       "      <td>365</td>\n",
       "    </tr>\n",
       "    <tr>\n",
       "      <th>1</th>\n",
       "      <td>2595</td>\n",
       "      <td>Skylit Midtown Castle</td>\n",
       "      <td>2845</td>\n",
       "      <td>Jennifer</td>\n",
       "      <td>Manhattan</td>\n",
       "      <td>Midtown</td>\n",
       "      <td>40.75362</td>\n",
       "      <td>-73.98377</td>\n",
       "      <td>Entire home/apt</td>\n",
       "      <td>225</td>\n",
       "      <td>1</td>\n",
       "      <td>45</td>\n",
       "      <td>2019-05-21</td>\n",
       "      <td>0.38</td>\n",
       "      <td>2</td>\n",
       "      <td>355</td>\n",
       "    </tr>\n",
       "    <tr>\n",
       "      <th>2</th>\n",
       "      <td>3647</td>\n",
       "      <td>THE VILLAGE OF HARLEM....NEW YORK !</td>\n",
       "      <td>4632</td>\n",
       "      <td>Elisabeth</td>\n",
       "      <td>Manhattan</td>\n",
       "      <td>Harlem</td>\n",
       "      <td>40.80902</td>\n",
       "      <td>-73.94190</td>\n",
       "      <td>Private room</td>\n",
       "      <td>150</td>\n",
       "      <td>3</td>\n",
       "      <td>0</td>\n",
       "      <td>NaN</td>\n",
       "      <td>NaN</td>\n",
       "      <td>1</td>\n",
       "      <td>365</td>\n",
       "    </tr>\n",
       "    <tr>\n",
       "      <th>3</th>\n",
       "      <td>3831</td>\n",
       "      <td>Cozy Entire Floor of Brownstone</td>\n",
       "      <td>4869</td>\n",
       "      <td>LisaRoxanne</td>\n",
       "      <td>Brooklyn</td>\n",
       "      <td>Clinton Hill</td>\n",
       "      <td>40.68514</td>\n",
       "      <td>-73.95976</td>\n",
       "      <td>Entire home/apt</td>\n",
       "      <td>89</td>\n",
       "      <td>1</td>\n",
       "      <td>270</td>\n",
       "      <td>2019-07-05</td>\n",
       "      <td>4.64</td>\n",
       "      <td>1</td>\n",
       "      <td>194</td>\n",
       "    </tr>\n",
       "    <tr>\n",
       "      <th>4</th>\n",
       "      <td>5022</td>\n",
       "      <td>Entire Apt: Spacious Studio/Loft by central park</td>\n",
       "      <td>7192</td>\n",
       "      <td>Laura</td>\n",
       "      <td>Manhattan</td>\n",
       "      <td>East Harlem</td>\n",
       "      <td>40.79851</td>\n",
       "      <td>-73.94399</td>\n",
       "      <td>Entire home/apt</td>\n",
       "      <td>80</td>\n",
       "      <td>10</td>\n",
       "      <td>9</td>\n",
       "      <td>2018-11-19</td>\n",
       "      <td>0.10</td>\n",
       "      <td>1</td>\n",
       "      <td>0</td>\n",
       "    </tr>\n",
       "  </tbody>\n",
       "</table>\n",
       "</div>"
      ],
      "text/plain": [
       "     id                                              name  host_id  \\\n",
       "0  2539                Clean & quiet apt home by the park     2787   \n",
       "1  2595                             Skylit Midtown Castle     2845   \n",
       "2  3647               THE VILLAGE OF HARLEM....NEW YORK !     4632   \n",
       "3  3831                   Cozy Entire Floor of Brownstone     4869   \n",
       "4  5022  Entire Apt: Spacious Studio/Loft by central park     7192   \n",
       "\n",
       "     host_name neighbourhood_group neighbourhood  latitude  longitude  \\\n",
       "0         John            Brooklyn    Kensington  40.64749  -73.97237   \n",
       "1     Jennifer           Manhattan       Midtown  40.75362  -73.98377   \n",
       "2    Elisabeth           Manhattan        Harlem  40.80902  -73.94190   \n",
       "3  LisaRoxanne            Brooklyn  Clinton Hill  40.68514  -73.95976   \n",
       "4        Laura           Manhattan   East Harlem  40.79851  -73.94399   \n",
       "\n",
       "         room_type  price  minimum_nights  number_of_reviews last_review  \\\n",
       "0     Private room    149               1                  9  2018-10-19   \n",
       "1  Entire home/apt    225               1                 45  2019-05-21   \n",
       "2     Private room    150               3                  0         NaN   \n",
       "3  Entire home/apt     89               1                270  2019-07-05   \n",
       "4  Entire home/apt     80              10                  9  2018-11-19   \n",
       "\n",
       "   reviews_per_month  calculated_host_listings_count  availability_365  \n",
       "0               0.21                               6               365  \n",
       "1               0.38                               2               355  \n",
       "2                NaN                               1               365  \n",
       "3               4.64                               1               194  \n",
       "4               0.10                               1                 0  "
      ]
     },
     "execution_count": 3,
     "metadata": {},
     "output_type": "execute_result"
    }
   ],
   "source": [
    "data.head()"
   ]
  },
  {
   "cell_type": "code",
   "execution_count": 4,
   "metadata": {},
   "outputs": [
    {
     "data": {
      "text/plain": [
       "(48895, 16)"
      ]
     },
     "execution_count": 4,
     "metadata": {},
     "output_type": "execute_result"
    }
   ],
   "source": [
    "data.shape"
   ]
  },
  {
   "cell_type": "code",
   "execution_count": 65,
   "metadata": {},
   "outputs": [
    {
     "data": {
      "text/plain": [
       "neighbourhood_group      5\n",
       "neighbourhood          221\n",
       "room_type                3\n",
       "dtype: int64"
      ]
     },
     "execution_count": 65,
     "metadata": {},
     "output_type": "execute_result"
    }
   ],
   "source": [
    "data[categorical].nunique()"
   ]
  },
  {
   "cell_type": "code",
   "execution_count": 66,
   "metadata": {},
   "outputs": [],
   "source": [
    "low_card_categorical = [\n",
    "    'neighbourhood_group',\n",
    "    'room_type'\n",
    "]\n",
    "\n",
    "high_card_categorical = [\n",
    "    'neighbourhood',\n",
    "]"
   ]
  },
  {
   "cell_type": "code",
   "execution_count": 72,
   "metadata": {},
   "outputs": [
    {
     "data": {
      "text/plain": [
       "neighbourhood_group                   0\n",
       "room_type                             0\n",
       "minimum_nights                        0\n",
       "number_of_reviews                     0\n",
       "reviews_per_month                 10052\n",
       "calculated_host_listings_count        0\n",
       "availability_365                      0\n",
       "dtype: int64"
      ]
     },
     "execution_count": 72,
     "metadata": {},
     "output_type": "execute_result"
    }
   ],
   "source": [
    "data[low_card_categorical + continuous].isna().sum()    "
   ]
  },
  {
   "cell_type": "code",
   "execution_count": 15,
   "metadata": {},
   "outputs": [
    {
     "data": {
      "text/plain": [
       "np.float64(0.01)"
      ]
     },
     "execution_count": 15,
     "metadata": {},
     "output_type": "execute_result"
    }
   ],
   "source": [
    "data['reviews_per_month'].min()"
   ]
  },
  {
   "cell_type": "code",
   "execution_count": 21,
   "metadata": {},
   "outputs": [
    {
     "data": {
      "text/plain": [
       "<Axes: >"
      ]
     },
     "execution_count": 21,
     "metadata": {},
     "output_type": "execute_result"
    },
    {
     "data": {
      "image/png": "[encoded data removed]",
      "text/plain": [
       "<Figure size 640x480 with 1 Axes>"
      ]
     },
     "metadata": {},
     "output_type": "display_data"
    }
   ],
   "source": [
    "data['price'].hist(bins=10)"
   ]
  },
  {
   "cell_type": "code",
   "execution_count": 23,
   "metadata": {},
   "outputs": [
    {
     "data": {
      "text/plain": [
       "<Axes: >"
      ]
     },
     "execution_count": 23,
     "metadata": {},
     "output_type": "execute_result"
    },
    {
     "data": {
      "image/png": "[encoded data removed]",
      "text/plain": [
       "<Figure size 640x480 with 1 Axes>"
      ]
     },
     "metadata": {},
     "output_type": "display_data"
    }
   ],
   "source": [
    "data[['price']].boxplot()"
   ]
  },
  {
   "cell_type": "code",
   "execution_count": 27,
   "metadata": {},
   "outputs": [
    {
     "data": {
      "text/plain": [
       "<Axes: >"
      ]
     },
     "execution_count": 27,
     "metadata": {},
     "output_type": "execute_result"
    },
    {
     "data": {
      "image/png": "[encoded data removed]",
      "text/plain": [
       "<Figure size 640x480 with 1 Axes>"
      ]
     },
     "metadata": {},
     "output_type": "display_data"
    }
   ],
   "source": [
    "np.log1p(data['price']).hist(bins=20)"
   ]
  },
  {
   "cell_type": "code",
   "execution_count": 28,
   "metadata": {},
   "outputs": [
    {
     "data": {
      "text/plain": [
       "<Axes: >"
      ]
     },
     "execution_count": 28,
     "metadata": {},
     "output_type": "execute_result"
    },
    {
     "data": {
      "image/png": "[encoded data removed]",
      "text/plain": [
       "<Figure size 640x480 with 1 Axes>"
      ]
     },
     "metadata": {},
     "output_type": "display_data"
    }
   ],
   "source": [
    "data[['price']].apply(lambda x: np.log1p(x)).boxplot()"
   ]
  },
  {
   "cell_type": "code",
   "execution_count": null,
   "metadata": {},
   "outputs": [
    {
     "data": {
      "text/plain": [
       "array([[<Axes: title={'center': 'price'}>]], dtype=object)"
      ]
     },
     "execution_count": 29,
     "metadata": {},
     "output_type": "execute_result"
    },
    {
     "data": {
      "image/png": "[encoded data removed]",
      "text/plain": [
       "<Figure size 640x480 with 1 Axes>"
      ]
     },
     "metadata": {},
     "output_type": "display_data"
    }
   ],
   "source": [
    "data[['price']][data['price'] <= 1000].hist(bins=20) # Resembles more common distributions found in e-commerce or other sales with long-tail products."
   ]
  },
  {
   "cell_type": "code",
   "execution_count": null,
   "metadata": {},
   "outputs": [
    {
     "data": {
      "text/plain": [
       "array([[<Axes: title={'center': 'price'}>]], dtype=object)"
      ]
     },
     "execution_count": 30,
     "metadata": {},
     "output_type": "execute_result"
    },
    {
     "data": {
      "image/png": "[encoded data removed]",
      "text/plain": [
       "<Figure size 640x480 with 1 Axes>"
      ]
     },
     "metadata": {},
     "output_type": "display_data"
    }
   ],
   "source": [
    "data[['price']][(data.price >= 50) & (data.price <= 200)].hist(bins=20) # More uniform distribution"
   ]
  },
  {
   "cell_type": "code",
   "execution_count": 31,
   "metadata": {},
   "outputs": [],
   "source": [
    "price_capped = data.price <= 1000\n",
    "price_window = (data.price >= 50) & (data.price <= 200)"
   ]
  },
  {
   "cell_type": "code",
   "execution_count": 33,
   "metadata": {},
   "outputs": [
    {
     "data": {
      "text/plain": [
       "<Axes: >"
      ]
     },
     "execution_count": 33,
     "metadata": {},
     "output_type": "execute_result"
    },
    {
     "data": {
      "image/png": "[encoded data removed]",
      "text/plain": [
       "<Figure size 640x480 with 1 Axes>"
      ]
     },
     "metadata": {},
     "output_type": "display_data"
    }
   ],
   "source": [
    "data[['price']][price_window].boxplot()"
   ]
  },
  {
   "cell_type": "markdown",
   "metadata": {},
   "source": [
    "### Prepare four different targets"
   ]
  },
  {
   "cell_type": "code",
   "execution_count": 34,
   "metadata": {},
   "outputs": [],
   "source": [
    "target_mean = (data[\"price\"] > data[\"price\"].mean()).astype(int)\n",
    "target_median = (data[\"price\"] > data[\"price\"].median()).astype(int)\n",
    "target_multiclass = pd.qcut(data[\"price\"], q=5, labels=False)\n",
    "target_regression = data[\"price\"]"
   ]
  },
  {
   "cell_type": "code",
   "execution_count": 35,
   "metadata": {},
   "outputs": [
    {
     "data": {
      "text/plain": [
       "(price\n",
       " 0    34016\n",
       " 1    14879\n",
       " Name: count, dtype: int64,\n",
       " price\n",
       " 0    24472\n",
       " 1    24423\n",
       " Name: count, dtype: int64,\n",
       " price\n",
       " 3    10809\n",
       " 0    10063\n",
       " 1     9835\n",
       " 2     9804\n",
       " 4     8384\n",
       " Name: count, dtype: int64)"
      ]
     },
     "execution_count": 35,
     "metadata": {},
     "output_type": "execute_result"
    }
   ],
   "source": [
    "(target_mean.value_counts(), target_median.value_counts(), target_multiclass.value_counts())"
   ]
  },
  {
   "cell_type": "code",
   "execution_count": 37,
   "metadata": {},
   "outputs": [],
   "source": [
    "from sklearn.pipeline import Pipeline\n",
    "from sklearn.compose import ColumnTransformer\n",
    "from sklearn.preprocessing import OneHotEncoder, StandardScaler, OrdinalEncoder\n",
    "from sklearn.impute import SimpleImputer"
   ]
  },
  {
   "cell_type": "code",
   "execution_count": 73,
   "metadata": {},
   "outputs": [],
   "source": [
    "categorical_onehot = OneHotEncoder(\n",
    "    handle_unknown='ignore'\n",
    ")\n",
    "numeric_passthrough = SimpleImputer(strategy='constant', fill_value=0)\n",
    "numeric_standardization = Pipeline(steps=[\n",
    "    ('imputer', SimpleImputer(strategy='constant', fill_value=0)),\n",
    "    ('scaler', StandardScaler())\n",
    "])"
   ]
  },
  {
   "cell_type": "code",
   "execution_count": 74,
   "metadata": {},
   "outputs": [],
   "source": [
    "column_transform = ColumnTransformer(\n",
    "    [\n",
    "        ('categories', categorical_onehot, low_card_categorical),\n",
    "        ('numeric', numeric_passthrough, continuous)\n",
    "        ],\n",
    "        remainder='drop',\n",
    "        verbose_feature_names_out=False,\n",
    "        sparse_threshold=0.0\n",
    ")"
   ]
  },
  {
   "cell_type": "code",
   "execution_count": 75,
   "metadata": {},
   "outputs": [
    {
     "name": "stdout",
     "output_type": "stream",
     "text": [
      "<class 'numpy.ndarray'> float64 (48895, 13)\n"
     ]
    }
   ],
   "source": [
    "X = column_transform.fit_transform(data)\n",
    "print(type(X), X.dtype, X.shape)"
   ]
  },
  {
   "cell_type": "markdown",
   "metadata": {},
   "source": [
    "## Linear Regression"
   ]
  },
  {
   "cell_type": "code",
   "execution_count": 47,
   "metadata": {},
   "outputs": [],
   "source": [
    "from sklearn.linear_model import LinearRegression\n",
    "from sklearn.metrics import make_scorer, mean_squared_error, root_mean_squared_error\n",
    "from sklearn.model_selection import cross_validate, KFold"
   ]
  },
  {
   "cell_type": "code",
   "execution_count": 81,
   "metadata": {},
   "outputs": [
    {
     "name": "stdout",
     "output_type": "stream",
     "text": [
      "33.949 (0.274) fit: 0.02 secs pred: 0.01 secs\n"
     ]
    }
   ],
   "source": [
    "column_transform = ColumnTransformer(\n",
    "    [\n",
    "        ('categories', categorical_onehot, low_card_categorical),\n",
    "        ('numeric', numeric_passthrough, continuous)\n",
    "        ],\n",
    "        remainder='drop',\n",
    "        verbose_feature_names_out=False,\n",
    "        sparse_threshold=0.0\n",
    ")\n",
    "\n",
    "model = LinearRegression()\n",
    "\n",
    "model_pipeline = Pipeline(\n",
    "    steps=[\n",
    "        ('preprocessor', column_transform),\n",
    "        #('standardize', numeric_standardization),\n",
    "        ('model', model)\n",
    "    ]\n",
    ")\n",
    "\n",
    "cv = KFold(n_splits=5, shuffle=True, random_state=0)\n",
    "rmse = make_scorer(root_mean_squared_error)\n",
    "cv_scores = cross_validate(\n",
    "    estimator=model_pipeline,\n",
    "    X=data[price_window],\n",
    "    y=target_regression[price_window],\n",
    "    scoring=rmse,\n",
    "    cv=cv,\n",
    "    return_train_score=True,\n",
    "    return_estimator=True,\n",
    ")\n",
    "\n",
    "mean_cv = np.mean(cv_scores['test_score'])\n",
    "std_cv = np.std(cv_scores['test_score'])    \n",
    "fit_time = np.mean(cv_scores['fit_time'])\n",
    "score_time = np.mean(cv_scores['score_time'])   \n",
    "print(f\"{mean_cv:0.3f} ({std_cv:0.3f})\", \n",
    " f\"fit: {fit_time:0.2f}\", \n",
    " f\"secs pred: {score_time:0.2f} secs\")"
   ]
  },
  {
   "cell_type": "markdown",
   "metadata": {},
   "source": [
    "### L2 Regularization (Ridge) Regression"
   ]
  },
  {
   "cell_type": "code",
   "execution_count": 49,
   "metadata": {},
   "outputs": [],
   "source": [
    "from sklearn.preprocessing import PolynomialFeatures\n",
    "from sklearn.linear_model import Ridge, Lasso"
   ]
  },
  {
   "cell_type": "code",
   "execution_count": 82,
   "metadata": {},
   "outputs": [
    {
     "name": "stdout",
     "output_type": "stream",
     "text": [
      "33.738 (0.275) fit: 0.12 secs pred: 0.02 secs\n"
     ]
    }
   ],
   "source": [
    "column_transform = ColumnTransformer(\n",
    "    [\n",
    "        ('categories', categorical_onehot, low_card_categorical),\n",
    "        ('numeric', numeric_passthrough, continuous)\n",
    "        ],\n",
    "        remainder='drop',\n",
    "        verbose_feature_names_out=False,\n",
    "        sparse_threshold=0.0\n",
    ")\n",
    "\n",
    "polynomial_expansion = PolynomialFeatures(degree=2)\n",
    "model = Ridge(alpha=2500.0)\n",
    "model_pipeline = Pipeline(\n",
    "    steps=[\n",
    "        ('processing', column_transform),\n",
    "        ('poly_expansion', polynomial_expansion),\n",
    "        ('standardize', numeric_standardization),\n",
    "        ('model', model)\n",
    "    ]\n",
    ")\n",
    "cv = KFold(n_splits=5, shuffle=True, random_state=0)\n",
    "rmse = make_scorer(root_mean_squared_error)\n",
    "cv_scores = cross_validate(\n",
    "    estimator=model_pipeline,\n",
    "    X=data[price_window],\n",
    "    y=target_regression[price_window],\n",
    "    scoring=rmse,\n",
    "    cv=cv,\n",
    "    return_train_score=True,\n",
    "    return_estimator=True,\n",
    ")\n",
    "\n",
    "mean_cv = np.mean(cv_scores['test_score'])\n",
    "std_cv = np.std(cv_scores['test_score'])    \n",
    "fit_time = np.mean(cv_scores['fit_time'])\n",
    "score_time = np.mean(cv_scores['score_time'])   \n",
    "print(f\"{mean_cv:0.3f} ({std_cv:0.3f})\", \n",
    " f\"fit: {fit_time:0.2f}\", \n",
    " f\"secs pred: {score_time:0.2f} secs\")"
   ]
  },
  {
   "cell_type": "code",
   "execution_count": 79,
   "metadata": {},
   "outputs": [
    {
     "data": {
      "text/plain": [
       "105"
      ]
     },
     "execution_count": 79,
     "metadata": {},
     "output_type": "execute_result"
    }
   ],
   "source": [
    "len(cv_scores['estimator'][0]['model'].coef_)"
   ]
  },
  {
   "cell_type": "code",
   "execution_count": 80,
   "metadata": {},
   "outputs": [
    {
     "data": {
      "text/plain": [
       "np.int64(91)"
      ]
     },
     "execution_count": 80,
     "metadata": {},
     "output_type": "execute_result"
    }
   ],
   "source": [
    "(cv_scores['estimator'][0]['model'].coef_.round(5)!=0).sum()"
   ]
  },
  {
   "cell_type": "markdown",
   "metadata": {},
   "source": [
    "### L1 Regularization (Lasso) Regression"
   ]
  },
  {
   "cell_type": "code",
   "execution_count": null,
   "metadata": {},
   "outputs": [
    {
     "name": "stdout",
     "output_type": "stream",
     "text": [
      "33.718 (0.269) fit: 9.05 secs pred: 0.02 secs\n"
     ]
    }
   ],
   "source": [
    "model = Lasso(alpha=0.1) # The higher the stronger regularization\n",
    "model_pipeline = Pipeline(\n",
    "    steps=[\n",
    "        ('processing', column_transform),\n",
    "        ('poly_expansion', polynomial_expansion),\n",
    "        ('standardize', numeric_standardization),\n",
    "        ('model', model)\n",
    "    ]\n",
    ")\n",
    "\n",
    "cv = KFold(n_splits=5, shuffle=True, random_state=0)\n",
    "rmse = make_scorer(root_mean_squared_error)\n",
    "cv_scores = cross_validate(\n",
    "    estimator=model_pipeline,\n",
    "    X=data[price_window],\n",
    "    y=target_regression[price_window],\n",
    "    scoring=rmse,\n",
    "    cv=cv,\n",
    "    return_train_score=True,\n",
    "    return_estimator=True,\n",
    ")\n",
    "\n",
    "mean_cv = np.mean(cv_scores['test_score'])\n",
    "std_cv = np.std(cv_scores['test_score'])    \n",
    "fit_time = np.mean(cv_scores['fit_time'])\n",
    "score_time = np.mean(cv_scores['score_time'])   \n",
    "print(f\"{mean_cv:0.3f} ({std_cv:0.3f})\", \n",
    " f\"fit: {fit_time:0.2f}\", \n",
    " f\"secs pred: {score_time:0.2f} secs\")"
   ]
  },
  {
   "cell_type": "code",
   "execution_count": 84,
   "metadata": {},
   "outputs": [
    {
     "data": {
      "text/plain": [
       "np.int64(53)"
      ]
     },
     "execution_count": 84,
     "metadata": {},
     "output_type": "execute_result"
    }
   ],
   "source": [
    "(cv_scores['estimator'][0]['model'].coef_.round(5) !=0).sum()"
   ]
  },
  {
   "cell_type": "markdown",
   "metadata": {},
   "source": [
    "### Logistic Regression"
   ]
  },
  {
   "cell_type": "code",
   "execution_count": 85,
   "metadata": {},
   "outputs": [],
   "source": [
    "from sklearn.linear_model import LogisticRegression\n",
    "from sklearn.metrics import accuracy_score"
   ]
  },
  {
   "cell_type": "code",
   "execution_count": 87,
   "metadata": {},
   "outputs": [
    {
     "name": "stdout",
     "output_type": "stream",
     "text": [
      "0.821 (0.004) fit: 1.15 secs pred: 0.01 secs\n"
     ]
    }
   ],
   "source": [
    "accuracy = make_scorer(accuracy_score)\n",
    "cv = KFold(n_splits=5, shuffle=True, random_state=0)\n",
    "\n",
    "column_transform = ColumnTransformer(\n",
    "    [\n",
    "        ('categories', categorical_onehot, low_card_categorical),\n",
    "        ('numeric', numeric_standardization, continuous)\n",
    "        ],\n",
    "        remainder='drop',\n",
    "        verbose_feature_names_out=False,\n",
    "        sparse_threshold=0.0\n",
    ")\n",
    "model = LogisticRegression(\n",
    "    solver='saga',\n",
    "    penalty=None,\n",
    "    max_iter=1000\n",
    ")\n",
    "model_pipeline = Pipeline(\n",
    "    steps=[\n",
    "        ('processing', column_transform),\n",
    "        ('model', model)\n",
    "    ]\n",
    ")\n",
    "cv_scores = cross_validate(\n",
    "    estimator=model_pipeline,\n",
    "    X=data,\n",
    "    y=target_median,\n",
    "    scoring=accuracy,\n",
    "    cv=cv,\n",
    "    return_train_score=True,\n",
    "    return_estimator=True,\n",
    ")\n",
    "\n",
    "mean_cv = np.mean(cv_scores['test_score'])\n",
    "std_cv = np.std(cv_scores['test_score'])    \n",
    "fit_time = np.mean(cv_scores['fit_time'])\n",
    "score_time = np.mean(cv_scores['score_time'])   \n",
    "print(f\"{mean_cv:0.3f} ({std_cv:0.3f})\", \n",
    " f\"fit: {fit_time:0.2f}\", \n",
    " f\"secs pred: {score_time:0.2f} secs\")"
   ]
  },
  {
   "cell_type": "markdown",
   "metadata": {},
   "source": [
    "### Logistic Regression for MultiClass "
   ]
  },
  {
   "cell_type": "code",
   "execution_count": 89,
   "metadata": {},
   "outputs": [],
   "source": [
    "from sklearn.multiclass import OneVsRestClassifier"
   ]
  },
  {
   "cell_type": "code",
   "execution_count": 94,
   "metadata": {},
   "outputs": [
    {
     "name": "stdout",
     "output_type": "stream",
     "text": [
      "0.435 (0.002) fit: 0.97 secs pred: 0.02 secs\n"
     ]
    }
   ],
   "source": [
    "accuracy = make_scorer(accuracy_score)\n",
    "cv = KFold(n_splits=5, shuffle=True, random_state=0)\n",
    "\n",
    "column_transform = ColumnTransformer(\n",
    "    [\n",
    "        ('categories', categorical_onehot, low_card_categorical),\n",
    "        ('numeric', numeric_standardization, continuous)\n",
    "        ],\n",
    "        remainder='drop',\n",
    "        verbose_feature_names_out=False,\n",
    "        sparse_threshold=0.0\n",
    ")\n",
    "model = OneVsRestClassifier(\n",
    "    LogisticRegression(\n",
    "    solver='lbfgs',\n",
    "    penalty='l2',\n",
    "    C=0.1,\n",
    "    max_iter=1000\n",
    "))\n",
    "model_pipeline = Pipeline(\n",
    "    steps=[\n",
    "        ('processing', column_transform),\n",
    "        ('model', model)\n",
    "    ]\n",
    ")\n",
    "cv_scores = cross_validate(\n",
    "    estimator=model_pipeline,\n",
    "    X=data,\n",
    "    y=target_multiclass,\n",
    "    scoring=accuracy,\n",
    "    cv=cv,\n",
    "    return_train_score=True,\n",
    "    return_estimator=True,\n",
    ")\n",
    "\n",
    "mean_cv = np.mean(cv_scores['test_score'])\n",
    "std_cv = np.std(cv_scores['test_score'])    \n",
    "fit_time = np.mean(cv_scores['fit_time'])\n",
    "score_time = np.mean(cv_scores['score_time'])   \n",
    "print(f\"{mean_cv:0.3f} ({std_cv:0.3f})\", \n",
    " f\"fit: {fit_time:0.2f}\", \n",
    " f\"secs pred: {score_time:0.2f} secs\")"
   ]
  },
  {
   "cell_type": "markdown",
   "metadata": {},
   "source": [
    "### TweedieRegressor for Poisson, Gamma and Tweedie Distributions"
   ]
  },
  {
   "cell_type": "code",
   "execution_count": 95,
   "metadata": {},
   "outputs": [],
   "source": [
    "from sklearn.linear_model import TweedieRegressor"
   ]
  },
  {
   "cell_type": "code",
   "execution_count": 97,
   "metadata": {},
   "outputs": [
    {
     "name": "stdout",
     "output_type": "stream",
     "text": [
      "normal            : 233.224 (15.849) fit: 0.04 secs pred: 0.01 secs\n",
      "poisson           : 227.385 (16.212) fit: 0.08 secs pred: 0.01 secs\n",
      "tweedie           : 228.109 (16.174) fit: 0.05 secs pred: 0.01 secs\n",
      "gamma             : 233.371 (15.864) fit: 0.04 secs pred: 0.01 secs\n",
      "inverse gaussian  : 239.567 (15.454) fit: 0.04 secs pred: 0.01 secs\n"
     ]
    }
   ],
   "source": [
    "experiments = [\n",
    "    ['normal', 0, float('-inf')],\n",
    "    ['poisson', 1, 0.0],\n",
    "    ['tweedie', 1.5, 0.1],\n",
    "    ['gamma', 2, 0.1],\n",
    "    ['inverse gaussian', 3, 0.1]\n",
    "]\n",
    "\n",
    "for experiment, power, min_val in experiments:\n",
    "    rmse = make_scorer(root_mean_squared_error)\n",
    "    cv = KFold(n_splits=5, shuffle=True, random_state=0)\n",
    "\n",
    "    column_transform = ColumnTransformer(\n",
    "        [\n",
    "            ('categories', categorical_onehot, low_card_categorical),\n",
    "            ('numeric', numeric_standardization, continuous)\n",
    "            ],\n",
    "            remainder='drop',\n",
    "            verbose_feature_names_out=False,\n",
    "            sparse_threshold=0.0\n",
    "    )\n",
    "    model = TweedieRegressor(power=power, max_iter=1_000)\n",
    "    model_pipeline = Pipeline(\n",
    "        steps=[\n",
    "            ('processing', column_transform),\n",
    "            ('model', model)\n",
    "        ]\n",
    "    )\n",
    "    cv_scores = cross_validate(\n",
    "        estimator=model_pipeline,\n",
    "        X=data,\n",
    "        y=target_regression.clip(lower=min_val),\n",
    "        scoring=rmse,\n",
    "        cv=cv,\n",
    "        return_train_score=True,\n",
    "        return_estimator=True,\n",
    "    )\n",
    "\n",
    "    mean_cv = np.mean(cv_scores['test_score'])\n",
    "    std_cv = np.std(cv_scores['test_score'])    \n",
    "    fit_time = np.mean(cv_scores['fit_time'])\n",
    "    score_time = np.mean(cv_scores['score_time'])   \n",
    "    print(f\"{experiment:18}: {mean_cv:0.3f} ({std_cv:0.3f})\", \n",
    "    f\"fit: {fit_time:0.2f}\", \n",
    "    f\"secs pred: {score_time:0.2f} secs\")"
   ]
  }
 ],
 "metadata": {
  "kernelspec": {
   "display_name": ".venv",
   "language": "python",
   "name": "python3"
  },
  "language_info": {
   "codemirror_mode": {
    "name": "ipython",
    "version": 3
   },
   "file_extension": ".py",
   "mimetype": "text/x-python",
   "name": "python",
   "nbconvert_exporter": "python",
   "pygments_lexer": "ipython3",
   "version": "3.11.11"
  }
 },
 "nbformat": 4,
 "nbformat_minor": 2
}
